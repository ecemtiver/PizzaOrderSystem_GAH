{
  "nbformat": 4,
  "nbformat_minor": 0,
  "metadata": {
    "colab": {
      "provenance": []
    },
    "kernelspec": {
      "name": "python3",
      "display_name": "Python 3"
    },
    "language_info": {
      "name": "python"
    }
  },
  "cells": [
    {
      "cell_type": "code",
      "source": [
        "import pandas as pd\n",
        "     \n",
        "\n",
        "# Connect to your google drive\n",
        "from google.colab import drive\n",
        "drive.mount('/content/gdrive' , force_remount=True) \n",
        "     \n",
        "Mounted at /content/gdrive\n",
        "\n",
        "df = pd.read_csv(\"/content/gdrive/MyDrive/GlobalAI-PizzaOrder/Orders_Database.csv\" , encoding='unicode escape' , header=None , names=['İsim','TC','Kart No','Kart Sifre','Siparis','Tutar','Tarih'])\n",
        "df.head()"
      ],
      "metadata": {
        "id": "tj7mKTZvSat_"
      },
      "execution_count": null,
      "outputs": []
    }
  ]
}